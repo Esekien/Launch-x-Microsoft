{
 "cells": [
  {
   "cell_type": "markdown",
   "metadata": {},
   "source": [
    "# Ejercicio - Crear un paquete"
   ]
  },
  {
   "cell_type": "markdown",
   "metadata": {},
   "source": [
    "# Crear un entorno virtual"
   ]
  },
  {
   "cell_type": "markdown",
   "metadata": {},
   "source": [
    "Pasos que realice para crear un entorno virtual (de igual manera lo subi a la repo...)"
   ]
  },
  {
   "cell_type": "markdown",
   "metadata": {},
   "source": [
    "- Ejecute el siguiente comando para crear un entorno vitual\n",
    "\n",
    "<img src=https://raw.githubusercontent.com/Esekien/Launch-x-Microsoft/main/imagenes/1.png>"
   ]
  },
  {
   "cell_type": "markdown",
   "metadata": {},
   "source": [
    "- Se creo la carpeta Env (lo realize en otro proyecyo ya que lo habia tomando evidencias)\n",
    "\n",
    "<img src=\"https://raw.githubusercontent.com/Esekien/Launch-x-Microsoft/main/imagenes/2.png\">\n"
   ]
  },
  {
   "cell_type": "markdown",
   "metadata": {},
   "source": [
    "- Ejecute el siguiente comando para activar el entorno vitural\n",
    "\n",
    "<img src=\"https://raw.githubusercontent.com/Esekien/Launch-x-Microsoft/main/imagenes/4.png\">"
   ]
  },
  {
   "cell_type": "markdown",
   "metadata": {},
   "source": [
    "- Ejecute el listado de librerias instaladas en el entorno vitual y no respondio nada ya que no he instalado nada...\n",
    "\n",
    "<img src=\"https://raw.githubusercontent.com/Esekien/Launch-x-Microsoft/main/imagenes/5.png\">"
   ]
  },
  {
   "cell_type": "markdown",
   "metadata": {},
   "source": [
    "- por ultimo instale una libreria y volvi a ejecutar el listado de librerias, en esta ocasion si me respondio. al final desactive el entorno virtual.\n",
    "\n",
    "<img src=\"https://raw.githubusercontent.com/Esekien/Launch-x-Microsoft/main/imagenes/7.png\">"
   ]
  }
 ],
 "metadata": {
  "language_info": {
   "name": "python"
  },
  "orig_nbformat": 4
 },
 "nbformat": 4,
 "nbformat_minor": 2
}
