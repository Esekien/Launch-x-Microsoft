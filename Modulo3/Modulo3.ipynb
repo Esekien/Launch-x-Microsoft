{
 "cells": [
  {
   "cell_type": "markdown",
   "metadata": {},
   "source": [
    "# Ejercicio - Escribir declaraciones if, else, y elif"
   ]
  },
  {
   "cell_type": "code",
   "execution_count": 1,
   "metadata": {},
   "outputs": [
    {
     "name": "stdout",
     "output_type": "stream",
     "text": [
      "cuidado un asteroide se acerca\n"
     ]
    }
   ],
   "source": [
    "asteriodeVel = 49\n",
    "if asteriodeVel > 25:\n",
    "    print('cuidado un asteroide se acerca')\n",
    "else:\n",
    "    print('todo normal')"
   ]
  },
  {
   "cell_type": "code",
   "execution_count": 2,
   "metadata": {},
   "outputs": [
    {
     "name": "stdout",
     "output_type": "stream",
     "text": [
      "todo normal\n"
     ]
    }
   ],
   "source": [
    "asteriodeVel = 19\n",
    "if asteriodeVel > 20:\n",
    "    print('Rayo de luz')\n",
    "elif asteriodeVel == 20:\n",
    "    print('Rayo de luz')\n",
    "else:\n",
    "    print('todo normal')\n"
   ]
  },
  {
   "cell_type": "code",
   "execution_count": 3,
   "metadata": {},
   "outputs": [
    {
     "name": "stdout",
     "output_type": "stream",
     "text": [
      "Rayo de luz\n"
     ]
    }
   ],
   "source": [
    "asteriodeVel = 25\n",
    "asteriodeTam = 40\n",
    "if asteriodeVel > 25 and asteriodeTam > 25:\n",
    "    print('cuidado un asteroide se acerca')\n",
    "elif asteriodeVel >= 20:\n",
    "    print('Rayo de luz')\n",
    "elif asteriodeTam < 25:\n",
    "    print('todo normal')\n",
    "else:\n",
    "    print('todo normal')"
   ]
  }
 ],
 "metadata": {
  "interpreter": {
   "hash": "0ee807ca5298f2102be6fead357573ca0960663167c35b715264eabd08adfb3f"
  },
  "kernelspec": {
   "display_name": "Python 3.8.2 32-bit",
   "language": "python",
   "name": "python3"
  },
  "language_info": {
   "codemirror_mode": {
    "name": "ipython",
    "version": 3
   },
   "file_extension": ".py",
   "mimetype": "text/x-python",
   "name": "python",
   "nbconvert_exporter": "python",
   "pygments_lexer": "ipython3",
   "version": "3.8.2"
  },
  "orig_nbformat": 4
 },
 "nbformat": 4,
 "nbformat_minor": 2
}
