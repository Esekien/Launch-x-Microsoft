{
 "cells": [
  {
   "cell_type": "markdown",
   "metadata": {},
   "source": [
    "# Ejercicio: Uso de funciones en Python"
   ]
  },
  {
   "cell_type": "code",
   "execution_count": 1,
   "metadata": {},
   "outputs": [],
   "source": [
    "def infoCombustible(ubi1,ubi2,ubi3):\n",
    "    promedio = (ubi1 + ubi2 + ubi3) / 3\n",
    "    return f\"\"\" promedio: {promedio}%\n",
    "        tanque1 : {ubi1}%\n",
    "        tanque2 : {ubi2}%\n",
    "        tanque3 : {ubi3}%\n",
    "     \"\"\"\n"
   ]
  },
  {
   "cell_type": "code",
   "execution_count": 2,
   "metadata": {},
   "outputs": [
    {
     "name": "stdout",
     "output_type": "stream",
     "text": [
      " promedio: 56.666666666666664%\n",
      "        tanque1 : 30%\n",
      "        tanque2 : 50%\n",
      "        tanque3 : 90%\n",
      "     \n"
     ]
    }
   ],
   "source": [
    "print( infoCombustible(30,50,90))"
   ]
  },
  {
   "cell_type": "code",
   "execution_count": 3,
   "metadata": {},
   "outputs": [],
   "source": [
    "def promedio(ubi1,ubi2,ubi3):\n",
    "    promedio = (ubi1 + ubi2 + ubi3) / 3\n",
    "    return promedio"
   ]
  },
  {
   "cell_type": "code",
   "execution_count": 4,
   "metadata": {},
   "outputs": [],
   "source": [
    "def infoCombustible(ubi1,ubi2,ubi3):\n",
    "    \n",
    "    return f\"\"\" promedio: {promedio(ubi1,ubi2,ubi3)}%\n",
    "        tanque1 : {ubi1}%\n",
    "        tanque2 : {ubi2}%\n",
    "        tanque3 : {ubi3}%\n",
    "     \"\"\""
   ]
  },
  {
   "cell_type": "code",
   "execution_count": 5,
   "metadata": {},
   "outputs": [
    {
     "name": "stdout",
     "output_type": "stream",
     "text": [
      " promedio: 56.666666666666664%\n",
      "        tanque1 : 30%\n",
      "        tanque2 : 50%\n",
      "        tanque3 : 90%\n",
      "     \n"
     ]
    }
   ],
   "source": [
    "print(infoCombustible(30,50,90))"
   ]
  },
  {
   "cell_type": "markdown",
   "metadata": {},
   "source": [
    "Ejercicio 2: Trabajo con argumentos de palabra clave"
   ]
  },
  {
   "cell_type": "code",
   "execution_count": 7,
   "metadata": {},
   "outputs": [
    {
     "name": "stdout",
     "output_type": "stream",
     "text": [
      "\n",
      "    mision para Moon\n",
      "    Tiempo total de viaje: 65 munutos\n",
      "    Total de combustible restante: 500000 litros\n",
      "    \n"
     ]
    }
   ],
   "source": [
    "def reporte(prelanzamiento, tiempo_vuelo, destino, tanque_externo, tanque_principal):\n",
    "    return f\"\"\"\n",
    "    mision para {destino}\n",
    "    Tiempo total de viaje: {prelanzamiento + tiempo_vuelo} munutos\n",
    "    Total de combustible restante: {tanque_externo + tanque_principal} litros\n",
    "    \"\"\"\n",
    "\n",
    "print(reporte(14, 51, \"Moon\", 200000, 300000))"
   ]
  },
  {
   "cell_type": "code",
   "execution_count": 8,
   "metadata": {},
   "outputs": [
    {
     "name": "stdout",
     "output_type": "stream",
     "text": [
      "\n",
      "    mision para Moon\n",
      "    Tiempo total de viaje: 76 minutos\n",
      "    Total de combustible restante: 500000\n",
      "    \n"
     ]
    }
   ],
   "source": [
    "def mission_report(destino, *minutos, **depósitos_de_combustible):\n",
    "    return f\"\"\"\n",
    "    mision para {destino}\n",
    "    Tiempo total de viaje: {sum(minutos)} minutos\n",
    "    Total de combustible restante: {sum(depósitos_de_combustible.values())}\n",
    "    \"\"\"\n",
    "\n",
    "print(mission_report(\"Moon\", 10, 15, 51, main=300000, external=200000))"
   ]
  },
  {
   "cell_type": "code",
   "execution_count": 13,
   "metadata": {},
   "outputs": [
    {
     "name": "stdout",
     "output_type": "stream",
     "text": [
      "\n",
      "    Mision para Moon\n",
      "    Tiempo total de viaje: 74 minutos\n",
      "    Total de combustible restante: 500000\n",
      "    main tank: 300000 gallons\n",
      "external tank: 200000 gallons\n",
      "\n"
     ]
    }
   ],
   "source": [
    "def mission_report(destino, *minutos, **depósitos_de_combustible):\n",
    "    reporte = f\"\"\"\n",
    "    Mision para {destino}\n",
    "    Tiempo total de viaje: {sum(minutos)} minutos\n",
    "    Total de combustible restante: {sum(depósitos_de_combustible.values())}\n",
    "    \"\"\"\n",
    "    # en el for se esta usando como el clave valor, tanque seria la clave y gallons seria el valor...\n",
    "    for tanque, gallons in depósitos_de_combustible.items():\n",
    "        reporte += f\"{tanque} tank: {gallons} gallons\\n\"\n",
    "    return reporte\n",
    "\n",
    "print(mission_report(\"Moon\", 8, 11, 55, main=300000, external=200000))"
   ]
  }
 ],
 "metadata": {
  "interpreter": {
   "hash": "c3fcc225efc2bd8c5e23fb4ede1c0865158063e31c3c2744efb98ae1962a09ec"
  },
  "kernelspec": {
   "display_name": "Python 3.9.6 64-bit (system)",
   "language": "python",
   "name": "python3"
  },
  "language_info": {
   "codemirror_mode": {
    "name": "ipython",
    "version": 3
   },
   "file_extension": ".py",
   "mimetype": "text/x-python",
   "name": "python",
   "nbconvert_exporter": "python",
   "pygments_lexer": "ipython3",
   "version": "3.9.6"
  },
  "orig_nbformat": 4
 },
 "nbformat": 4,
 "nbformat_minor": 2
}
